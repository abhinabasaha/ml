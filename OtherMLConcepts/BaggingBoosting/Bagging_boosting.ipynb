{
 "cells": [
  {
   "cell_type": "markdown",
   "id": "7b8926fa",
   "metadata": {},
   "source": [
    "## Bagging (Bootstrap Aggregating)\n",
    "\n",
    "**Literature:**\n",
    "\n",
    "* Bagging, introduced by Leo Breiman in 1996, aims to reduce variance in models, particularly unstable ones like decision trees.\n",
    "* It leverages the idea that averaging multiple noisy but unbiased models reduces the overall variance.\n",
    "* \"Bootstrap\" refers to the sampling with replacement from the training data. \"Aggregating\" refers to combining the predictions of the individual models.\n",
    "* Random Forest is a popular application of bagging, where decision trees are used as base estimators.\n",
    "\n",
    "**Mathematical Formulas:**\n",
    "\n",
    "* Let $D = \\{(x_1, y_1), (x_2, y_2), ..., (x_N, y_N)\\}$ be the training dataset.\n",
    "* Generate $B$ bootstrap samples $D_1, D_2, ..., D_B$ by sampling with replacement from $D$.\n",
    "* Train a base learner $h_b(x)$ on each bootstrap sample $D_b$.\n",
    "* For classification, the final prediction $H(x)$ is obtained by majority voting:\n",
    "    * $H(x) = \\text{mode}\\{h_1(x), h_2(x), ..., h_B(x)\\}$\n",
    "* For regression, the final prediction $H(x)$ is obtained by averaging:\n",
    "    * $H(x) = \\frac{1}{B} \\sum_{b=1}^{B} h_b(x)$\n",
    "\n",
    "## Boosting (AdaBoost - Adaptive Boosting)\n",
    "\n",
    "**Literature:**\n",
    "\n",
    "* AdaBoost (Adaptive Boosting), proposed by Freund and Schapire in 1996, focuses on reducing bias by sequentially training models that learn from the errors of previous models.\n",
    "* It assigns weights to training samples, giving more weight to misclassified samples, forcing subsequent models to focus on them.\n",
    "* It also assigns weights to the models themselves, giving more weight to models with lower error rates.\n",
    "\n",
    "**Mathematical Formulas:**\n",
    "\n",
    "* Let $D = \\{(x_1, y_1), (x_2, y_2), ..., (x_N, y_N)\\}$ be the training dataset.\n",
    "* Initialize sample weights $w_i = \\frac{1}{N}$ for $i = 1, 2, ..., N$.\n",
    "* For $t = 1, 2, ..., T$ (number of boosting iterations):\n",
    "    * Train a weak learner $h_t(x)$ on the weighted training data.\n",
    "    * Calculate the weighted error: $\\epsilon_t = \\sum_{i=1}^{N} w_i \\cdot I(h_t(x_i) \\neq y_i)$, where $I$ is the indicator function.\n",
    "    * Calculate the learner's weight: $\\alpha_t = \\frac{1}{2} \\ln(\\frac{1 - \\epsilon_t}{\\epsilon_t})$.\n",
    "    * Update sample weights: $w_i = \\frac{w_i \\cdot \\exp(-\\alpha_t \\cdot y_i \\cdot h_t(x_i))}{Z_t}$, where $Z_t$ is a normalization factor.\n",
    "* Final prediction: $H(x) = \\text{sign}(\\sum_{t=1}^{T} \\alpha_t \\cdot h_t(x))$."
   ]
  },
  {
   "cell_type": "code",
   "execution_count": null,
   "id": "add03da4",
   "metadata": {},
   "outputs": [],
   "source": [
    "import numpy as np\n",
    "from sklearn.ensemble import BaggingClassifier, AdaBoostClassifier\n",
    "from sklearn.tree import DecisionTreeClassifier\n",
    "from sklearn.datasets import load_iris\n",
    "from sklearn.model_selection import train_test_split\n",
    "from sklearn.metrics import accuracy_score"
   ]
  },
  {
   "cell_type": "code",
   "execution_count": null,
   "id": "e211db9d",
   "metadata": {},
   "outputs": [],
   "source": [
    "# Load the Iris dataset\n",
    "iris = load_iris()\n",
    "X, y = iris.data, iris.target"
   ]
  },
  {
   "cell_type": "code",
   "execution_count": null,
   "id": "cbec364f",
   "metadata": {},
   "outputs": [],
   "source": [
    "# Split the data into training and testing sets\n",
    "X_train, X_test, y_train, y_test = train_test_split(X, y, test_size=0.3, random_state=42)\n",
    "\n",
    "# Bagging\n",
    "base_estimator = DecisionTreeClassifier(max_depth=3)\n",
    "bagging_model = BaggingClassifier(base_estimator=base_estimator, n_estimators=100, random_state=42)\n",
    "bagging_model.fit(X_train, y_train)\n",
    "bagging_predictions = bagging_model.predict(X_test)\n",
    "bagging_accuracy = accuracy_score(y_test, bagging_predictions)\n",
    "print(f\"Bagging Accuracy: {bagging_accuracy}\")\n",
    "\n",
    "# AdaBoost\n",
    "boosting_model = AdaBoostClassifier(base_estimator=base_estimator, n_estimators=100, random_state=42)\n",
    "boosting_model.fit(X_train, y_train)\n",
    "boosting_predictions = boosting_model.predict(X_test)\n",
    "boosting_accuracy = accuracy_score(y_test, boosting_predictions)\n",
    "print(f\"AdaBoost Accuracy: {boosting_accuracy}\")"
   ]
  }
 ],
 "metadata": {
  "kernelspec": {
   "display_name": "Python 3 (ipykernel)",
   "language": "python",
   "name": "python3"
  },
  "language_info": {
   "codemirror_mode": {
    "name": "ipython",
    "version": 3
   },
   "file_extension": ".py",
   "mimetype": "text/x-python",
   "name": "python",
   "nbconvert_exporter": "python",
   "pygments_lexer": "ipython3",
   "version": "3.10.11"
  }
 },
 "nbformat": 4,
 "nbformat_minor": 5
}
